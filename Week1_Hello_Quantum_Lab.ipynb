{
 "cells": [
  {
   "cell_type": "markdown",
   "id": "ae74ba3f",
   "metadata": {},
   "source": [
    "# Week 1 – Introduction & Hello Quantum Lab\n",
    "Welcome to your very first quantum computing lab! 🎉\n",
    "\n",
    "In this session, you will:\n",
    "- Learn how to run code using Qiskit\n",
    "- Create your first quantum circuit\n",
    "- Visualize the result of measuring a qubit"
   ]
  },
  {
   "cell_type": "markdown",
   "id": "880a988c",
   "metadata": {},
   "source": [
    "## 🔧 Step 1: Import Qiskit"
   ]
  },
  {
   "cell_type": "code",
   "execution_count": null,
   "id": "8ab78d93",
   "metadata": {},
   "outputs": [],
   "source": [
    "from qiskit import QuantumCircuit, Aer, execute\n",
    "from qiskit.visualization import plot_histogram"
   ]
  },
  {
   "cell_type": "markdown",
   "id": "9856f2b8",
   "metadata": {},
   "source": [
    "## ⚙️ Step 2: Build Your First Circuit"
   ]
  },
  {
   "cell_type": "markdown",
   "id": "e1463900",
   "metadata": {},
   "source": [
    "We'll create a simple circuit with:\n",
    "- 1 qubit\n",
    "- A Hadamard gate (puts the qubit into superposition)\n",
    "- A measurement to observe the result"
   ]
  },
  {
   "cell_type": "code",
   "execution_count": null,
   "id": "406cc223",
   "metadata": {},
   "outputs": [],
   "source": [
    "qc = QuantumCircuit(1, 1)  # 1 qubit, 1 classical bit\n",
    "qc.h(0)                   # Apply Hadamard gate\n",
    "qc.measure(0, 0)          # Measure qubit into classical bit\n",
    "qc.draw('mpl')"
   ]
  },
  {
   "cell_type": "markdown",
   "id": "8f9a87ee",
   "metadata": {},
   "source": [
    "## 🧪 Step 3: Simulate the Circuit"
   ]
  },
  {
   "cell_type": "code",
   "execution_count": null,
   "id": "10420610",
   "metadata": {},
   "outputs": [],
   "source": [
    "backend = Aer.get_backend('qasm_simulator')\n",
    "job = execute(qc, backend, shots=1000)\n",
    "result = job.result()\n",
    "counts = result.get_counts()\n",
    "plot_histogram(counts)"
   ]
  },
  {
   "cell_type": "markdown",
   "id": "cf32bc0b",
   "metadata": {},
   "source": [
    "## ✅ Summary"
   ]
  },
  {
   "cell_type": "markdown",
   "id": "abfa6d1d",
   "metadata": {},
   "source": [
    "Great job! You just:\n",
    "- Built a quantum circuit\n",
    "- Put a qubit into superposition\n",
    "- Measured it and simulated the result\n",
    "\n",
    "Next week, we'll start diving into the math and physics behind quantum computing."
   ]
  }
 ],
 "metadata": {},
 "nbformat": 4,
 "nbformat_minor": 5
}
