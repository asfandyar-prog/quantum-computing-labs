{
 "cells": [
  {
   "cell_type": "markdown",
   "id": "9e24dcc3",
   "metadata": {},
   "source": [
    "# Week 11–12: Shor’s Algorithm – Full Lab (Part 1 & Part 2)\n",
    "Welcome to the Shor’s Algorithm lab! In this 2-part session, we will:\n",
    "\n",
    "**Part 1 (Week 11)**: Introduce the concept of quantum factoring using the number 15 as our target.\n",
    "- Classical explanation of factoring\n",
    "- Modulo arithmetic and periodicity\n",
    "- Core quantum subroutine: modular exponentiation\n",
    "\n",
    "**Part 2 (Week 12)**: Implement a simplified version of Shor’s algorithm using Qiskit.\n",
    "- Simulate period finding\n",
    "- Perform classical post-processing\n",
    "- Get non-trivial factors of 15\n",
    "---"
   ]
  },
  {
   "cell_type": "markdown",
   "id": "0c409685",
   "metadata": {},
   "source": [
    "## 🔢 Part 1: Classical Setup and Understanding the Problem"
   ]
  },
  {
   "cell_type": "code",
   "execution_count": null,
   "id": "72a1fbcb",
   "metadata": {},
   "outputs": [],
   "source": [
    "# Number to factor\n",
    "N = 15\n",
    "# Choose a value for 'a' such that 1 < a < N and gcd(a, N) = 1\n",
    "a = 7\n",
    "import math\n",
    "print(f\"Trying to factor {N} using base a = {a}\")\n",
    "print(f\"GCD(a, N) = {math.gcd(a, N)}\")"
   ]
  },
  {
   "cell_type": "markdown",
   "id": "80dd68f4",
   "metadata": {},
   "source": [
    "Now compute `a^x mod N` for a range of x to see if we can find a pattern."
   ]
  },
  {
   "cell_type": "code",
   "execution_count": null,
   "id": "74072934",
   "metadata": {},
   "outputs": [],
   "source": [
    "# Show a^x mod N to observe periodicity\n",
    "for x in range(1, 20):\n",
    "    print(f\"{a}^{x} mod {N} = {pow(a, x, N)}\")"
   ]
  },
  {
   "cell_type": "markdown",
   "id": "d248ccc6",
   "metadata": {},
   "source": [
    "The goal is to find the period `r` such that `a^r mod N = 1`. In this case, period r = 4.\n",
    "We’ll simulate the quantum subroutine that finds this period in Part 2."
   ]
  },
  {
   "cell_type": "markdown",
   "id": "38667e8b",
   "metadata": {},
   "source": [
    "---\n",
    "## ⚛️ Part 2: Quantum Subroutine and Factorization"
   ]
  },
  {
   "cell_type": "markdown",
   "id": "081ed9f1",
   "metadata": {},
   "source": [
    "### Step 1: Simulate Quantum Period Finding"
   ]
  },
  {
   "cell_type": "code",
   "execution_count": null,
   "id": "ef5e90c7",
   "metadata": {},
   "outputs": [],
   "source": [
    "# We simulate the result of the quantum subroutine that finds the period r\n",
    "r = 4\n",
    "print(f\"Simulated quantum result: period r = {r}\")"
   ]
  },
  {
   "cell_type": "markdown",
   "id": "9f2f8cf3",
   "metadata": {},
   "source": [
    "### Step 2: Classical Post-Processing to Find Factors"
   ]
  },
  {
   "cell_type": "code",
   "execution_count": null,
   "id": "487d4068",
   "metadata": {},
   "outputs": [],
   "source": [
    "# Use the period to compute potential factors\n",
    "factor1 = math.gcd(pow(a, r//2) - 1, N)\n",
    "factor2 = math.gcd(pow(a, r//2) + 1, N)\n",
    "\n",
    "print(f\"Factors of {N} are {factor1} and {factor2}\")"
   ]
  },
  {
   "cell_type": "markdown",
   "id": "c4442d9b",
   "metadata": {},
   "source": [
    "### ✅ Conclusion"
   ]
  },
  {
   "cell_type": "markdown",
   "id": "589a5966",
   "metadata": {},
   "source": [
    "- We demonstrated the full structure of Shor’s algorithm using the number 15.\n",
    "- Although we simulated the quantum part, the structure of period finding and classical post-processing is exactly what real quantum computers use.\n",
    "- This exercise shows the power of quantum computing in solving classically hard problems like factoring large numbers."
   ]
  }
 ],
 "metadata": {},
 "nbformat": 4,
 "nbformat_minor": 5
}
