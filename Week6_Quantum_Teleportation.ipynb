{
 "cells": [
  {
   "cell_type": "markdown",
   "id": "7c8dacb2",
   "metadata": {},
   "source": [
    "# Week 6 Lab: Bloch Sphere and Quantum Teleportation\n",
    "In this lab, you will:\n",
    "- Review the Bloch sphere representation of qubit states\n",
    "- Implement a simple quantum teleportation protocol in Qiskit\n",
    "- Understand how quantum states can be transferred using entanglement and classical communication"
   ]
  },
  {
   "cell_type": "markdown",
   "id": "ec431e4d",
   "metadata": {},
   "source": [
    "## Step 1: Import Required Libraries"
   ]
  },
  {
   "cell_type": "code",
   "execution_count": null,
   "id": "be52ef27",
   "metadata": {},
   "outputs": [],
   "source": [
    "from qiskit import QuantumCircuit, Aer, execute\n",
    "from qiskit.visualization import plot_bloch_multivector, plot_histogram\n",
    "from qiskit.quantum_info import Statevector\n",
    "import matplotlib.pyplot as plt"
   ]
  },
  {
   "cell_type": "markdown",
   "id": "c849c68b",
   "metadata": {},
   "source": [
    "## Step 2: Bloch Sphere Recap"
   ]
  },
  {
   "cell_type": "markdown",
   "id": "b776d5f5",
   "metadata": {},
   "source": [
    "We begin by revisiting the Bloch Sphere. A qubit's state can be visualized as a point on a sphere.\n",
    "This helps us understand how gates affect qubit orientation in 3D space."
   ]
  },
  {
   "cell_type": "code",
   "execution_count": null,
   "id": "13b8d437",
   "metadata": {},
   "outputs": [],
   "source": [
    "qc = QuantumCircuit(1)\n",
    "qc.h(0)  # Apply Hadamard to place qubit in superposition\n",
    "state = Statevector.from_instruction(qc)\n",
    "plot_bloch_multivector(state)"
   ]
  },
  {
   "cell_type": "markdown",
   "id": "338a0f3b",
   "metadata": {},
   "source": [
    "## Step 3: Introduction to Quantum Teleportation"
   ]
  },
  {
   "cell_type": "markdown",
   "id": "38fc5908",
   "metadata": {},
   "source": [
    "Quantum teleportation is a process by which the state of a qubit is transmitted from one location to another, without physically sending the qubit itself. It involves:\n",
    "- An entangled pair of qubits shared between sender (Alice) and receiver (Bob)\n",
    "- Local operations and classical communication (LOCC)"
   ]
  },
  {
   "cell_type": "markdown",
   "id": "532757fe",
   "metadata": {},
   "source": [
    "## Step 4: Build the Teleportation Circuit"
   ]
  },
  {
   "cell_type": "markdown",
   "id": "d0da024e",
   "metadata": {},
   "source": [
    "We will create a circuit with 3 qubits:\n",
    "- Qubit 0: The state to be teleported (held by Alice)\n",
    "- Qubits 1 and 2: An entangled pair (1 with Alice, 2 with Bob)\n",
    "Steps:\n",
    "1. Create the Bell pair between Q1 and Q2\n",
    "2. Entangle Q0 with Q1\n",
    "3. Measure Q0 and Q1 and send the result to Bob\n",
    "4. Bob applies corrections to Q2"
   ]
  },
  {
   "cell_type": "code",
   "execution_count": null,
   "id": "5d6b1596",
   "metadata": {},
   "outputs": [],
   "source": [
    "qc = QuantumCircuit(3, 2)\n",
    "# Step 1: Prepare the state to teleport\n",
    "qc.h(0)\n",
    "# Step 2: Create entangled pair between qubit 1 and 2\n",
    "qc.h(1)\n",
    "qc.cx(1, 2)\n",
    "# Step 3: Entangle qubit 0 with qubit 1\n",
    "qc.cx(0, 1)\n",
    "qc.h(0)\n",
    "# Step 4: Measure qubits 0 and 1\n",
    "qc.measure(0, 0)\n",
    "qc.measure(1, 1)\n",
    "qc.draw('mpl')"
   ]
  },
  {
   "cell_type": "markdown",
   "id": "331a8bcf",
   "metadata": {},
   "source": [
    "## Step 5: Apply Conditional Corrections"
   ]
  },
  {
   "cell_type": "code",
   "execution_count": null,
   "id": "8afb2437",
   "metadata": {},
   "outputs": [],
   "source": [
    "# Step 5: Apply corrections based on classical bits\n",
    "teleportation_circuit = QuantumCircuit(3, 2)\n",
    "teleportation_circuit.h(0)\n",
    "teleportation_circuit.h(1)\n",
    "teleportation_circuit.cx(1, 2)\n",
    "teleportation_circuit.cx(0, 1)\n",
    "teleportation_circuit.h(0)\n",
    "teleportation_circuit.measure(0, 0)\n",
    "teleportation_circuit.measure(1, 1)\n",
    "teleportation_circuit.x(2).c_if(1, 1)\n",
    "teleportation_circuit.z(2).c_if(0, 1)\n",
    "teleportation_circuit.draw('mpl')"
   ]
  },
  {
   "cell_type": "markdown",
   "id": "ef51f9ab",
   "metadata": {},
   "source": [
    "## Step 6: Simulate and Interpret Results"
   ]
  },
  {
   "cell_type": "code",
   "execution_count": null,
   "id": "0d047e82",
   "metadata": {},
   "outputs": [],
   "source": [
    "backend = Aer.get_backend('aer_simulator')\n",
    "teleportation_circuit.save_statevector()\n",
    "result = execute(teleportation_circuit, backend).result()\n",
    "statevector = result.data()['statevector']\n",
    "plot_bloch_multivector(statevector)"
   ]
  },
  {
   "cell_type": "markdown",
   "id": "66f39777",
   "metadata": {},
   "source": [
    "## Summary"
   ]
  },
  {
   "cell_type": "markdown",
   "id": "5add5c51",
   "metadata": {},
   "source": [
    "- The Bloch sphere helps visualize single-qubit states\n",
    "- Quantum teleportation transfers a qubit's state using entanglement and classical communication\n",
    "- This protocol does not transmit energy or matter, only quantum information"
   ]
  }
 ],
 "metadata": {
  "title": "Week 6 - Quantum Teleportation"
 },
 "nbformat": 4,
 "nbformat_minor": 5
}
