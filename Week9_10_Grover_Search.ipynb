{
 "cells": [
  {
   "cell_type": "markdown",
   "id": "c36c5c87",
   "metadata": {},
   "source": [
    "# Week 9: Classical vs Quantum Search\n",
    "In this notebook, we will:\n",
    "- Understand the concept of searching in classical vs quantum models\n",
    "- Simulate classical search with brute force\n",
    "- Introduce the concept of Grover's Algorithm"
   ]
  },
  {
   "cell_type": "markdown",
   "id": "8895d257",
   "metadata": {},
   "source": [
    "## Part 1: Classical Brute-Force Search"
   ]
  },
  {
   "cell_type": "markdown",
   "id": "10d696f2",
   "metadata": {},
   "source": [
    "We define a list of numbers and use a function to search for a hidden target number.\n",
    "This simulates how a classical computer would approach a search problem."
   ]
  },
  {
   "cell_type": "code",
   "execution_count": null,
   "id": "b4994317",
   "metadata": {},
   "outputs": [],
   "source": [
    "# Classical Search\n",
    "myList = [5, 4, 6, 9, 1, 2, 5, 8, 0]"
   ]
  },
  {
   "cell_type": "code",
   "execution_count": null,
   "id": "75bae212",
   "metadata": {},
   "outputs": [],
   "source": [
    "def oracle(number):\n",
    "    winning_num = 8\n",
    "    return number == winning_num"
   ]
  },
  {
   "cell_type": "code",
   "execution_count": null,
   "id": "53a65e5e",
   "metadata": {},
   "outputs": [],
   "source": [
    "for index, number in enumerate(myList):\n",
    "    if oracle(number):\n",
    "        print(f\" Winning number found at index {index}\")\n",
    "        print(f\" Execution count: {index + 1}\")\n",
    "        break"
   ]
  },
  {
   "cell_type": "markdown",
   "id": "0b215007",
   "metadata": {},
   "source": [
    "✅ As you can see, we need to check multiple elements before finding the right one."
   ]
  },
  {
   "cell_type": "markdown",
   "id": "15b2ce1f",
   "metadata": {},
   "source": [
    "## Why Quantum Search?"
   ]
  },
  {
   "cell_type": "markdown",
   "id": "730859a2",
   "metadata": {},
   "source": [
    "Classical search takes **O(N)** time.\n",
    "\n",
    "Grover's Algorithm lets us do it in approximately **O(√N)** time using quantum amplitude amplification.\n",
    "\n",
    "Let’s now move to the quantum version of the same search problem."
   ]
  },
  {
   "cell_type": "markdown",
   "id": "56fec98a",
   "metadata": {},
   "source": [
    "# Week 10: Grover's Algorithm"
   ]
  },
  {
   "cell_type": "markdown",
   "id": "15be2d60",
   "metadata": {},
   "source": [
    "## Step 1: Define Oracle Circuit"
   ]
  },
  {
   "cell_type": "markdown",
   "id": "caf17ced",
   "metadata": {},
   "source": [
    "This oracle flips the phase of the target state (|11⟩ in this case), marking it as the solution."
   ]
  },
  {
   "cell_type": "code",
   "execution_count": null,
   "id": "b6623133",
   "metadata": {},
   "outputs": [],
   "source": [
    "oracleCircuit = QuantumCircuit(2, name=\"oracleCircuit\")\n",
    "oracleCircuit.cz(0, 1)\n",
    "oracleCircuit.to_gate()\n",
    "oracleCircuit.draw(output='mpl')"
   ]
  },
  {
   "cell_type": "markdown",
   "id": "301aa8f8",
   "metadata": {},
   "source": [
    "## Step 2: Initialize Main Circuit with Superposition"
   ]
  },
  {
   "cell_type": "code",
   "execution_count": null,
   "id": "7c5b5c52",
   "metadata": {},
   "outputs": [],
   "source": [
    "mainCircuit = QuantumCircuit(2, 2)\n",
    "mainCircuit.h([0, 1])\n",
    "mainCircuit.append(oracleCircuit, [0, 1])\n",
    "mainCircuit.draw(output='mpl')"
   ]
  },
  {
   "cell_type": "markdown",
   "id": "5f026d01",
   "metadata": {},
   "source": [
    "## Step 3: Apply Reflection Circuit (Inversion About the Mean)"
   ]
  },
  {
   "cell_type": "code",
   "execution_count": null,
   "id": "631fb7bd",
   "metadata": {},
   "outputs": [],
   "source": [
    "reflectionCircuit = QuantumCircuit(2, name=\"reflectionCircuit\")\n",
    "reflectionCircuit.h([0, 1])\n",
    "reflectionCircuit.z([0, 1])\n",
    "reflectionCircuit.cz(0, 1)\n",
    "reflectionCircuit.h([0, 1])\n",
    "reflectionCircuit.to_gate()\n",
    "reflectionCircuit.draw(output='mpl')"
   ]
  },
  {
   "cell_type": "markdown",
   "id": "dd31bf1c",
   "metadata": {},
   "source": [
    "## Step 4: Final Steps - Measurement"
   ]
  },
  {
   "cell_type": "code",
   "execution_count": null,
   "id": "d569a116",
   "metadata": {},
   "outputs": [],
   "source": [
    "mainCircuit.append(reflectionCircuit, [0, 1])\n",
    "mainCircuit.measure([0, 1], [0, 1])\n",
    "mainCircuit.draw(output='mpl')"
   ]
  },
  {
   "cell_type": "markdown",
   "id": "8ea2e011",
   "metadata": {},
   "source": [
    "## Step 5: Run Simulation"
   ]
  },
  {
   "cell_type": "code",
   "execution_count": null,
   "id": "f19b8256",
   "metadata": {},
   "outputs": [],
   "source": [
    "backend = Aer.get_backend('qasm_simulator')\n",
    "result = execute(mainCircuit, backend=backend, shots=1024).result()\n",
    "counts = result.get_counts(mainCircuit)\n",
    "plot_histogram([counts])"
   ]
  },
  {
   "cell_type": "markdown",
   "id": "76787ff0",
   "metadata": {},
   "source": [
    "## Summary"
   ]
  },
  {
   "cell_type": "markdown",
   "id": "387c68ca",
   "metadata": {},
   "source": [
    "- Grover’s Algorithm allows us to search an unsorted database quadratically faster than classical methods.\n",
    "- In our 2-qubit system, we found the marked state `|11⟩` efficiently.\n",
    "- You can scale this up to larger qubit registers and add iterations for higher accuracy."
   ]
  }
 ],
 "metadata": {},
 "nbformat": 4,
 "nbformat_minor": 5
}
