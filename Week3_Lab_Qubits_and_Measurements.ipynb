{
 "cells": [
  {
   "cell_type": "markdown",
   "id": "58d10c38",
   "metadata": {},
   "source": [
    "# Week 3 – Qubits and Quantum Measurements\n",
    "Welcome to Lab 3! In this session, we’ll learn:\n",
    "- What a qubit is and how it behaves\n",
    "- What happens when we measure a quantum state\n",
    "- How to simulate quantum circuits and see real measurement results using Qiskit"
   ]
  },
  {
   "cell_type": "markdown",
   "id": "cd5dfeb2",
   "metadata": {},
   "source": [
    "## 🧠 What is a Qubit?"
   ]
  },
  {
   "cell_type": "markdown",
   "id": "972a1981",
   "metadata": {},
   "source": [
    "A **qubit** is the basic unit of quantum information. It can be in state:\n",
    "- |0⟩ (zero)\n",
    "- |1⟩ (one)\n",
    "- Or any combination of both (called a **superposition**)\n",
    "\n",
    "Let’s build and visualize a simple qubit."
   ]
  },
  {
   "cell_type": "code",
   "execution_count": null,
   "id": "0f4a6681",
   "metadata": {},
   "outputs": [],
   "source": [
    "from qiskit import QuantumCircuit\n",
    "qc = QuantumCircuit(1)\n",
    "qc.draw('mpl')  # Initial state |0⟩"
   ]
  },
  {
   "cell_type": "markdown",
   "id": "e6eb70d4",
   "metadata": {},
   "source": [
    "## 🔁 Superposition"
   ]
  },
  {
   "cell_type": "markdown",
   "id": "46713c1a",
   "metadata": {},
   "source": [
    "By applying a **Hadamard gate**, we put the qubit in a superposition — it will be 50% |0⟩ and 50% |1⟩."
   ]
  },
  {
   "cell_type": "code",
   "execution_count": null,
   "id": "f07b6138",
   "metadata": {},
   "outputs": [],
   "source": [
    "qc = QuantumCircuit(1)\n",
    "qc.h(0)\n",
    "qc.draw('mpl')"
   ]
  },
  {
   "cell_type": "markdown",
   "id": "810916b6",
   "metadata": {},
   "source": [
    "## 🎯 Measuring a Qubit"
   ]
  },
  {
   "cell_type": "markdown",
   "id": "e128ad24",
   "metadata": {},
   "source": [
    "When you **measure** a qubit in superposition, it randomly collapses to either 0 or 1. \n",
    "The result is probabilistic — let’s simulate this."
   ]
  },
  {
   "cell_type": "code",
   "execution_count": null,
   "id": "3f24b2cb",
   "metadata": {},
   "outputs": [],
   "source": [
    "from qiskit import Aer, execute\n",
    "from qiskit.visualization import plot_histogram\n",
    "\n",
    "qc.measure_all()\n",
    "backend = Aer.get_backend('qasm_simulator')\n",
    "job = execute(qc, backend, shots=1000)\n",
    "counts = job.result().get_counts()\n",
    "plot_histogram(counts)"
   ]
  },
  {
   "cell_type": "markdown",
   "id": "9dd4a9a1",
   "metadata": {},
   "source": [
    "## 🧪 Try Different Qubit States"
   ]
  },
  {
   "cell_type": "markdown",
   "id": "e1a68585",
   "metadata": {},
   "source": [
    "Let’s apply different gates and observe how measurements change. Try using `x`, `z`, or `rx(π/2)` gates."
   ]
  },
  {
   "cell_type": "code",
   "execution_count": null,
   "id": "3fa3cead",
   "metadata": {},
   "outputs": [],
   "source": [
    "qc = QuantumCircuit(1)\n",
    "qc.rx(3.14/2, 0)\n",
    "qc.measure_all()\n",
    "job = execute(qc, backend, shots=1000)\n",
    "counts = job.result().get_counts()\n",
    "plot_histogram(counts)"
   ]
  },
  {
   "cell_type": "markdown",
   "id": "2b5abe1f",
   "metadata": {},
   "source": [
    "## ✅ Summary"
   ]
  },
  {
   "cell_type": "markdown",
   "id": "c6674cf5",
   "metadata": {},
   "source": [
    "In this lab, you:\n",
    "- Created and measured qubits\n",
    "- Saw how quantum measurement gives probabilistic results\n",
    "- Explored how different gates affect measurement outcomes\n",
    "\n",
    "This is the foundation of quantum computing — well done!"
   ]
  }
 ],
 "metadata": {},
 "nbformat": 4,
 "nbformat_minor": 5
}
