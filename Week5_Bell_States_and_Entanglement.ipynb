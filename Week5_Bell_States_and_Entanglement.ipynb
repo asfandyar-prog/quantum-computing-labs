{
 "cells": [
  {
   "cell_type": "markdown",
   "id": "ed0116eb",
   "metadata": {},
   "source": [
    "# Week 5 Lab: Bell States and Entanglement\n",
    "In this lab, you will:\n",
    "- Understand what quantum entanglement is\n",
    "- Learn how to create Bell states using Qiskit\n",
    "- Measure and analyze the behavior of entangled qubits"
   ]
  },
  {
   "cell_type": "markdown",
   "id": "f70561c4",
   "metadata": {},
   "source": [
    "## Step 1: Import Required Libraries"
   ]
  },
  {
   "cell_type": "code",
   "execution_count": null,
   "id": "887500b5",
   "metadata": {},
   "outputs": [],
   "source": [
    "from qiskit import QuantumCircuit, Aer, execute\n",
    "from qiskit.visualization import plot_bloch_multivector, plot_histogram\n",
    "from qiskit.quantum_info import Statevector\n",
    "import matplotlib.pyplot as plt"
   ]
  },
  {
   "cell_type": "markdown",
   "id": "de65c53a",
   "metadata": {},
   "source": [
    "## Step 2: What is Entanglement?"
   ]
  },
  {
   "cell_type": "markdown",
   "id": "2a1f8975",
   "metadata": {},
   "source": [
    "Entanglement is a quantum phenomenon where two or more qubits become correlated in such a way that the state of one qubit cannot be described independently of the state of the other, even when the qubits are separated by large distances.\n",
    "\n",
    "Bell states are specific examples of maximally entangled qubit pairs."
   ]
  },
  {
   "cell_type": "markdown",
   "id": "d7dd91b6",
   "metadata": {},
   "source": [
    "## Step 3: Create a Bell State"
   ]
  },
  {
   "cell_type": "markdown",
   "id": "b7d3ec4b",
   "metadata": {},
   "source": [
    "To create a Bell state:\n",
    "1. Start with two qubits in state |00>\n",
    "2. Apply a Hadamard gate to the first qubit to create superposition\n",
    "3. Apply a CNOT gate with the first qubit as control and second as target"
   ]
  },
  {
   "cell_type": "code",
   "execution_count": null,
   "id": "26c8dba2",
   "metadata": {},
   "outputs": [],
   "source": [
    "bell_circuit = QuantumCircuit(2)\n",
    "bell_circuit.h(0)\n",
    "bell_circuit.cx(0, 1)\n",
    "bell_circuit.draw('mpl')"
   ]
  },
  {
   "cell_type": "markdown",
   "id": "70b81f0b",
   "metadata": {},
   "source": [
    "## Step 4: Visualize the Bell State"
   ]
  },
  {
   "cell_type": "code",
   "execution_count": null,
   "id": "7f83cbc1",
   "metadata": {},
   "outputs": [],
   "source": [
    "state = Statevector.from_instruction(bell_circuit)\n",
    "plot_bloch_multivector(state)"
   ]
  },
  {
   "cell_type": "markdown",
   "id": "56507a9c",
   "metadata": {},
   "source": [
    "## Step 5: Measure the Bell State"
   ]
  },
  {
   "cell_type": "code",
   "execution_count": null,
   "id": "0fa25048",
   "metadata": {},
   "outputs": [],
   "source": [
    "measured_circuit = bell_circuit.copy()\n",
    "measured_circuit.measure_all()\n",
    "backend = Aer.get_backend('qasm_simulator')\n",
    "job = execute(measured_circuit, backend, shots=1024)\n",
    "result = job.result()\n",
    "counts = result.get_counts()\n",
    "plot_histogram(counts)"
   ]
  },
  {
   "cell_type": "markdown",
   "id": "dc6a36ca",
   "metadata": {},
   "source": [
    "## Step 6: Interpretation"
   ]
  },
  {
   "cell_type": "markdown",
   "id": "4eac994c",
   "metadata": {},
   "source": [
    "You should observe that the qubits are either in state 00 or 11.\n",
    "This confirms the presence of entanglement: measuring one qubit gives you information about the other, regardless of distance."
   ]
  },
  {
   "cell_type": "markdown",
   "id": "2a3a2dff",
   "metadata": {},
   "source": [
    "## Summary"
   ]
  },
  {
   "cell_type": "markdown",
   "id": "f1a9c571",
   "metadata": {},
   "source": [
    "- You created a Bell state using Hadamard and CNOT gates\n",
    "- You visualized the entangled state using the Bloch sphere\n",
    "- Measurement showed the qubits collapse together, confirming entanglement"
   ]
  }
 ],
 "metadata": {},
 "nbformat": 4,
 "nbformat_minor": 5
}
