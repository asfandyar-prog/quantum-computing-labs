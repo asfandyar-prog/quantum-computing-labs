{
 "cells": [
  {
   "cell_type": "markdown",
   "id": "1f3a6426",
   "metadata": {},
   "source": [
    "# Week 7 Lab: Bernstein–Vazirani Algorithm\n",
    "In this lab, you will:\n",
    "- Understand the Bernstein–Vazirani problem\n",
    "- Implement the algorithm using Qiskit\n",
    "- Analyze how quantum computation can reveal a hidden binary string in one step"
   ]
  },
  {
   "cell_type": "markdown",
   "id": "5dd18de0",
   "metadata": {},
   "source": [
    "## Step 1: Import Required Libraries"
   ]
  },
  {
   "cell_type": "code",
   "execution_count": null,
   "id": "25c0c912",
   "metadata": {},
   "outputs": [],
   "source": [
    "from qiskit import *\n",
    "from qiskit.tools.visualization import plot_histogram\n",
    "%matplotlib inline"
   ]
  },
  {
   "cell_type": "markdown",
   "id": "61b015e3",
   "metadata": {},
   "source": [
    "## Step 2: Input the Secret Binary String"
   ]
  },
  {
   "cell_type": "markdown",
   "id": "2f46e020",
   "metadata": {},
   "source": [
    "We define a binary string `s`, which will be hidden inside a quantum oracle. The goal of the algorithm is to determine `s` with a single query to the oracle."
   ]
  },
  {
   "cell_type": "code",
   "execution_count": null,
   "id": "be28125c",
   "metadata": {},
   "outputs": [],
   "source": [
    "secretNumber = input(\"Enter a binary string (e.g., 1011): \")"
   ]
  },
  {
   "cell_type": "markdown",
   "id": "e0ea2414",
   "metadata": {},
   "source": [
    "## Step 3: Initialize the Quantum Circuit"
   ]
  },
  {
   "cell_type": "code",
   "execution_count": null,
   "id": "5c378214",
   "metadata": {},
   "outputs": [],
   "source": [
    "circuit = QuantumCircuit(len(secretNumber) + 1, len(secretNumber))"
   ]
  },
  {
   "cell_type": "markdown",
   "id": "698bbc83",
   "metadata": {},
   "source": [
    "## Step 4: Apply Hadamard Gates and Oracle"
   ]
  },
  {
   "cell_type": "markdown",
   "id": "3bc085f6",
   "metadata": {},
   "source": [
    "- Apply Hadamard gates to all input qubits and the output qubit.\n",
    "- Flip the output qubit with an X gate to prepare it in the |1⟩ state.\n",
    "- Use CNOT gates to implement the oracle based on the secret string."
   ]
  },
  {
   "cell_type": "code",
   "execution_count": null,
   "id": "1a34a00b",
   "metadata": {},
   "outputs": [],
   "source": [
    "circuit.h(range(len(secretNumber)))\n",
    "circuit.x(len(secretNumber))\n",
    "circuit.h(len(secretNumber))\n",
    "circuit.barrier()\n",
    "\n",
    "# Oracle based on secret string\n",
    "for index, one in enumerate(secretNumber[::-1]):\n",
    "    if one == \"1\":\n",
    "        circuit.cx(index, len(secretNumber))"
   ]
  },
  {
   "cell_type": "markdown",
   "id": "b3e8dfb9",
   "metadata": {},
   "source": [
    "## Step 5: Apply Final Hadamard Gates and Measure"
   ]
  },
  {
   "cell_type": "markdown",
   "id": "f16a4c38",
   "metadata": {},
   "source": [
    "After querying the oracle, apply Hadamard gates again to the input qubits.\n",
    "Then measure them to obtain the secret string."
   ]
  },
  {
   "cell_type": "code",
   "execution_count": null,
   "id": "9aafd627",
   "metadata": {},
   "outputs": [],
   "source": [
    "circuit.barrier()\n",
    "circuit.h(range(len(secretNumber)))\n",
    "circuit.barrier()\n",
    "circuit.measure(range(len(secretNumber)), range(len(secretNumber)))\n",
    "circuit.draw('mpl')"
   ]
  },
  {
   "cell_type": "markdown",
   "id": "fb6c8427",
   "metadata": {},
   "source": [
    "## Step 6: Execute the Circuit and Interpret the Result"
   ]
  },
  {
   "cell_type": "code",
   "execution_count": null,
   "id": "f6d894e1",
   "metadata": {},
   "outputs": [],
   "source": [
    "simulator = Aer.get_backend('qasm_simulator')\n",
    "result = execute(circuit, backend=simulator, shots=1024).result()\n",
    "counts = result.get_counts()\n",
    "print(\"Measurement Result:\", counts)\n",
    "plot_histogram(counts)"
   ]
  },
  {
   "cell_type": "markdown",
   "id": "890e610d",
   "metadata": {},
   "source": [
    "## Summary"
   ]
  },
  {
   "cell_type": "markdown",
   "id": "bcd52520",
   "metadata": {},
   "source": [
    "- The Bernstein–Vazirani algorithm finds a hidden binary string using just one query to a quantum oracle.\n",
    "- This is more efficient than classical methods, which would require multiple queries.\n",
    "- You implemented the algorithm, ran the simulation, and retrieved the secret string successfully."
   ]
  }
 ],
 "metadata": {},
 "nbformat": 4,
 "nbformat_minor": 5
}
