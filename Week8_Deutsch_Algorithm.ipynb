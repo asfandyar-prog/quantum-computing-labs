{
 "cells": [
  {
   "cell_type": "markdown",
   "id": "630d0890",
   "metadata": {},
   "source": [
    "# Week 8 Lab: Deutsch's Algorithm\n",
    "In this lab, you will:\n",
    "- Understand the Deutsch problem\n",
    "- Implement Deutsch's Algorithm using Qiskit\n",
    "- Determine whether a function is constant or balanced using quantum logic"
   ]
  },
  {
   "cell_type": "markdown",
   "id": "3070fd29",
   "metadata": {},
   "source": [
    "## Step 1: Import Required Libraries"
   ]
  },
  {
   "cell_type": "code",
   "execution_count": null,
   "id": "90fa0749",
   "metadata": {},
   "outputs": [],
   "source": [
    "from qiskit import *\n",
    "from qiskit.tools.visualization import plot_histogram\n",
    "%matplotlib inline"
   ]
  },
  {
   "cell_type": "markdown",
   "id": "71fdfb1d",
   "metadata": {},
   "source": [
    "## Step 2: Initialize Quantum Circuit"
   ]
  },
  {
   "cell_type": "markdown",
   "id": "90c2a7b2",
   "metadata": {},
   "source": [
    "We use 2 qubits:\n",
    "- Qubit 0: The input qubit\n",
    "- Qubit 1: The ancillary qubit (output of oracle)\n",
    "We use 1 classical bit to store the measurement of the input qubit."
   ]
  },
  {
   "cell_type": "code",
   "execution_count": null,
   "id": "7b374be5",
   "metadata": {},
   "outputs": [],
   "source": [
    "circuit = QuantumCircuit(2, 1)"
   ]
  },
  {
   "cell_type": "markdown",
   "id": "f8be44aa",
   "metadata": {},
   "source": [
    "## Step 3: Apply Hadamard Gates and Prepare Initial State"
   ]
  },
  {
   "cell_type": "markdown",
   "id": "d734d446",
   "metadata": {},
   "source": [
    "- Apply an `X` gate to qubit 1 to initialize it to `|1⟩`\n",
    "- Apply Hadamard gates to both qubits to create superposition"
   ]
  },
  {
   "cell_type": "code",
   "execution_count": null,
   "id": "772fe58b",
   "metadata": {},
   "outputs": [],
   "source": [
    "circuit.h(0)\n",
    "circuit.x(1)\n",
    "circuit.h(1)\n",
    "circuit.barrier()\n",
    "circuit.draw(output='mpl')"
   ]
  },
  {
   "cell_type": "markdown",
   "id": "3a54d78d",
   "metadata": {},
   "source": [
    "## Step 4: Apply the Oracle"
   ]
  },
  {
   "cell_type": "markdown",
   "id": "55b03816",
   "metadata": {},
   "source": [
    "We use a CNOT gate with qubit 0 as control and qubit 1 as target to simulate a **balanced function** `f(x) = x`."
   ]
  },
  {
   "cell_type": "code",
   "execution_count": null,
   "id": "3fa6ddf4",
   "metadata": {},
   "outputs": [],
   "source": [
    "circuit.cx(0, 1)\n",
    "circuit.barrier()\n",
    "circuit.draw(output='mpl')"
   ]
  },
  {
   "cell_type": "markdown",
   "id": "14ba6795",
   "metadata": {},
   "source": [
    "## Step 5: Apply Final Hadamard and Measure"
   ]
  },
  {
   "cell_type": "markdown",
   "id": "c1aaf432",
   "metadata": {},
   "source": [
    "- Apply Hadamard to qubit 0 again.\n",
    "- Then measure it. If output is `0`, the function is constant. If output is `1`, it is balanced."
   ]
  },
  {
   "cell_type": "code",
   "execution_count": null,
   "id": "8fd09f85",
   "metadata": {},
   "outputs": [],
   "source": [
    "circuit.h(0)\n",
    "circuit.barrier()\n",
    "circuit.measure(0, 0)\n",
    "circuit.draw(output='mpl')"
   ]
  },
  {
   "cell_type": "markdown",
   "id": "646898dc",
   "metadata": {},
   "source": [
    "## Step 6: Run the Circuit and Analyze Results"
   ]
  },
  {
   "cell_type": "code",
   "execution_count": null,
   "id": "f88c15d7",
   "metadata": {},
   "outputs": [],
   "source": [
    "backend = Aer.get_backend('qasm_simulator')\n",
    "result = execute(circuit, backend=backend, shots=1024).result()\n",
    "counts = result.get_counts(circuit)\n",
    "print(\"Measurement Result:\", counts)\n",
    "plot_histogram([counts])"
   ]
  },
  {
   "cell_type": "markdown",
   "id": "2ac4da96",
   "metadata": {},
   "source": [
    "## Summary"
   ]
  },
  {
   "cell_type": "markdown",
   "id": "01b4cd41",
   "metadata": {},
   "source": [
    "- Deutsch's Algorithm determines if a 1-bit function is constant or balanced in **one quantum query**.\n",
    "- Classically, you'd need two queries to know for sure.\n",
    "- You just demonstrated quantum speed-up!"
   ]
  }
 ],
 "metadata": {},
 "nbformat": 4,
 "nbformat_minor": 5
}
